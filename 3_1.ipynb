{
  "nbformat": 4,
  "nbformat_minor": 0,
  "metadata": {
    "colab": {
      "name": "3.1.ipynb",
      "provenance": [],
      "collapsed_sections": [],
      "include_colab_link": true
    },
    "kernelspec": {
      "name": "python3",
      "display_name": "Python 3"
    },
    "language_info": {
      "name": "python"
    }
  },
  "cells": [
    {
      "cell_type": "markdown",
      "metadata": {
        "id": "view-in-github",
        "colab_type": "text"
      },
      "source": [
        "<a href=\"https://colab.research.google.com/github/stevenwcliu/188-learning/blob/main/3_1.ipynb\" target=\"_parent\"><img src=\"https://colab.research.google.com/assets/colab-badge.svg\" alt=\"Open In Colab\"/></a>"
      ]
    },
    {
      "cell_type": "markdown",
      "source": [
        "### **Please submit the different parts of Module 3 in separate notebooks.**"
      ],
      "metadata": {
        "id": "4CIeFulNC-pu"
      }
    },
    {
      "cell_type": "markdown",
      "source": [
        "**Please enter your name and email in the textbox below, and state whether or not you are planning to take the next available Module 3 Assessment.  This way, we will make sure you receive feedback on the assignment as soon as possible.**"
      ],
      "metadata": {
        "id": "0oQgm9A3pM5u"
      }
    },
    {
      "cell_type": "markdown",
      "source": [
        "*Wencong Liu*:\n",
        "\n",
        "*wencong.liu@sjsu.edu*\n",
        "\n",
        "*I plan to take the next available Module 3 Assessment*: Yes"
      ],
      "metadata": {
        "id": "dZnh3EBKpghg"
      }
    },
    {
      "cell_type": "markdown",
      "source": [
        "# Module 3, Part 1\n",
        "\n",
        "Please complete this assignment in a Colab.  \n",
        "\n",
        "Please submit all parts of the Module 3 assignment as separate notebooks in the Canvas assignment for Module 3 (\"Module 3 Assignment\")."
      ],
      "metadata": {
        "id": "r6D5BNPJji5e"
      }
    },
    {
      "cell_type": "markdown",
      "source": [
        "# Section 0: Initialization "
      ],
      "metadata": {
        "id": "0walhdckUbi1"
      }
    },
    {
      "cell_type": "code",
      "execution_count": 1,
      "metadata": {
        "id": "zW2q4G48n_jR"
      },
      "outputs": [],
      "source": [
        "# Importing required libraries\n",
        "import numpy as np\n",
        "import pandas as pd\n",
        "import seaborn as sns\n",
        "import matplotlib.pyplot as plt\n",
        "import math\n",
        "from sklearn.model_selection import train_test_split\n",
        "from sklearn.metrics import confusion_matrix, ConfusionMatrixDisplay\n",
        "from tqdm import tqdm\n",
        "from google.colab import drive"
      ]
    },
    {
      "cell_type": "code",
      "source": [
        "# mounting google drive\n",
        "drive.mount('/content/drive')"
      ],
      "metadata": {
        "colab": {
          "base_uri": "https://localhost:8080/"
        },
        "id": "fbntjGxMo2IZ",
        "outputId": "449f7aa1-dcf1-4dbd-dc2b-c7fc9687c7cf"
      },
      "execution_count": 2,
      "outputs": [
        {
          "output_type": "stream",
          "name": "stdout",
          "text": [
            "Mounted at /content/drive\n"
          ]
        }
      ]
    },
    {
      "cell_type": "code",
      "source": [
        "# reading data\n",
        "df = pd.read_csv(\"/content/drive/MyDrive/188 M3/Sample_Data_m3.csv\")\n",
        "# df.head(3)\n",
        "df.drop(['Unnamed: 0'], axis = 1,inplace = True) # axis = 1: col ; 0: row\n",
        "\n",
        "df.head(3)"
      ],
      "metadata": {
        "colab": {
          "base_uri": "https://localhost:8080/",
          "height": 143
        },
        "id": "G6AVeieGo4-W",
        "outputId": "ea35812d-9983-4c27-8939-306f72d43eba"
      },
      "execution_count": 3,
      "outputs": [
        {
          "output_type": "execute_result",
          "data": {
            "text/plain": [
              "        a       b  target\n",
              "0  664159  550946       1\n",
              "1  665845  557965       1\n",
              "2  597173  575538       1"
            ],
            "text/html": [
              "\n",
              "  <div id=\"df-3268e1eb-b477-413c-a614-f1b8b85fd716\">\n",
              "    <div class=\"colab-df-container\">\n",
              "      <div>\n",
              "<style scoped>\n",
              "    .dataframe tbody tr th:only-of-type {\n",
              "        vertical-align: middle;\n",
              "    }\n",
              "\n",
              "    .dataframe tbody tr th {\n",
              "        vertical-align: top;\n",
              "    }\n",
              "\n",
              "    .dataframe thead th {\n",
              "        text-align: right;\n",
              "    }\n",
              "</style>\n",
              "<table border=\"1\" class=\"dataframe\">\n",
              "  <thead>\n",
              "    <tr style=\"text-align: right;\">\n",
              "      <th></th>\n",
              "      <th>a</th>\n",
              "      <th>b</th>\n",
              "      <th>target</th>\n",
              "    </tr>\n",
              "  </thead>\n",
              "  <tbody>\n",
              "    <tr>\n",
              "      <th>0</th>\n",
              "      <td>664159</td>\n",
              "      <td>550946</td>\n",
              "      <td>1</td>\n",
              "    </tr>\n",
              "    <tr>\n",
              "      <th>1</th>\n",
              "      <td>665845</td>\n",
              "      <td>557965</td>\n",
              "      <td>1</td>\n",
              "    </tr>\n",
              "    <tr>\n",
              "      <th>2</th>\n",
              "      <td>597173</td>\n",
              "      <td>575538</td>\n",
              "      <td>1</td>\n",
              "    </tr>\n",
              "  </tbody>\n",
              "</table>\n",
              "</div>\n",
              "      <button class=\"colab-df-convert\" onclick=\"convertToInteractive('df-3268e1eb-b477-413c-a614-f1b8b85fd716')\"\n",
              "              title=\"Convert this dataframe to an interactive table.\"\n",
              "              style=\"display:none;\">\n",
              "        \n",
              "  <svg xmlns=\"http://www.w3.org/2000/svg\" height=\"24px\"viewBox=\"0 0 24 24\"\n",
              "       width=\"24px\">\n",
              "    <path d=\"M0 0h24v24H0V0z\" fill=\"none\"/>\n",
              "    <path d=\"M18.56 5.44l.94 2.06.94-2.06 2.06-.94-2.06-.94-.94-2.06-.94 2.06-2.06.94zm-11 1L8.5 8.5l.94-2.06 2.06-.94-2.06-.94L8.5 2.5l-.94 2.06-2.06.94zm10 10l.94 2.06.94-2.06 2.06-.94-2.06-.94-.94-2.06-.94 2.06-2.06.94z\"/><path d=\"M17.41 7.96l-1.37-1.37c-.4-.4-.92-.59-1.43-.59-.52 0-1.04.2-1.43.59L10.3 9.45l-7.72 7.72c-.78.78-.78 2.05 0 2.83L4 21.41c.39.39.9.59 1.41.59.51 0 1.02-.2 1.41-.59l7.78-7.78 2.81-2.81c.8-.78.8-2.07 0-2.86zM5.41 20L4 18.59l7.72-7.72 1.47 1.35L5.41 20z\"/>\n",
              "  </svg>\n",
              "      </button>\n",
              "      \n",
              "  <style>\n",
              "    .colab-df-container {\n",
              "      display:flex;\n",
              "      flex-wrap:wrap;\n",
              "      gap: 12px;\n",
              "    }\n",
              "\n",
              "    .colab-df-convert {\n",
              "      background-color: #E8F0FE;\n",
              "      border: none;\n",
              "      border-radius: 50%;\n",
              "      cursor: pointer;\n",
              "      display: none;\n",
              "      fill: #1967D2;\n",
              "      height: 32px;\n",
              "      padding: 0 0 0 0;\n",
              "      width: 32px;\n",
              "    }\n",
              "\n",
              "    .colab-df-convert:hover {\n",
              "      background-color: #E2EBFA;\n",
              "      box-shadow: 0px 1px 2px rgba(60, 64, 67, 0.3), 0px 1px 3px 1px rgba(60, 64, 67, 0.15);\n",
              "      fill: #174EA6;\n",
              "    }\n",
              "\n",
              "    [theme=dark] .colab-df-convert {\n",
              "      background-color: #3B4455;\n",
              "      fill: #D2E3FC;\n",
              "    }\n",
              "\n",
              "    [theme=dark] .colab-df-convert:hover {\n",
              "      background-color: #434B5C;\n",
              "      box-shadow: 0px 1px 3px 1px rgba(0, 0, 0, 0.15);\n",
              "      filter: drop-shadow(0px 1px 2px rgba(0, 0, 0, 0.3));\n",
              "      fill: #FFFFFF;\n",
              "    }\n",
              "  </style>\n",
              "\n",
              "      <script>\n",
              "        const buttonEl =\n",
              "          document.querySelector('#df-3268e1eb-b477-413c-a614-f1b8b85fd716 button.colab-df-convert');\n",
              "        buttonEl.style.display =\n",
              "          google.colab.kernel.accessAllowed ? 'block' : 'none';\n",
              "\n",
              "        async function convertToInteractive(key) {\n",
              "          const element = document.querySelector('#df-3268e1eb-b477-413c-a614-f1b8b85fd716');\n",
              "          const dataTable =\n",
              "            await google.colab.kernel.invokeFunction('convertToInteractive',\n",
              "                                                     [key], {});\n",
              "          if (!dataTable) return;\n",
              "\n",
              "          const docLinkHtml = 'Like what you see? Visit the ' +\n",
              "            '<a target=\"_blank\" href=https://colab.research.google.com/notebooks/data_table.ipynb>data table notebook</a>'\n",
              "            + ' to learn more about interactive tables.';\n",
              "          element.innerHTML = '';\n",
              "          dataTable['output_type'] = 'display_data';\n",
              "          await google.colab.output.renderOutput(dataTable, element);\n",
              "          const docLink = document.createElement('div');\n",
              "          docLink.innerHTML = docLinkHtml;\n",
              "          element.appendChild(docLink);\n",
              "        }\n",
              "      </script>\n",
              "    </div>\n",
              "  </div>\n",
              "  "
            ]
          },
          "metadata": {},
          "execution_count": 3
        }
      ]
    },
    {
      "cell_type": "markdown",
      "source": [
        "# Section 1: Visualization & Pre-Processing"
      ],
      "metadata": {
        "id": "0ouvSRo1UQOD"
      }
    },
    {
      "cell_type": "markdown",
      "source": [
        "### 1\\. Plot scatter plot with data from column 'a' on the x-axis, the data from column 'b' as the y-axis, and the data from the 'target' column as the color parameter (parameter 'c')"
      ],
      "metadata": {
        "id": "NFZtJW3Wpl7Y"
      }
    },
    {
      "cell_type": "code",
      "source": [
        "# import matplotlib.pyplot as plot\n",
        "# list(df.columns.values) # ['Unnamed: 0', 'a', 'b', 'target']\n",
        "# list(df.a.values)\n",
        "# df['a']\n",
        "\n",
        "# df1 = pd.DataFrame([list(df.a.values), list(df.b.values), list(df.target.values)])\n",
        "# ax1 = df1.plot.scatter(x= 'a',\n",
        "#                        y= 'b',\n",
        "#                        c= 'target')\n",
        "\n",
        "# \n",
        "# plot.scatter(df['a'], df['b'], c = df['target'])\n",
        "\n",
        "# plot.show(block=True);\n",
        "\n",
        "x = df['a']\n",
        "y = df['b']\n",
        "color = df['target']\n",
        "plt.scatter(x,y, c = color)"
      ],
      "metadata": {
        "id": "SJfJ5gxhpiWO",
        "colab": {
          "base_uri": "https://localhost:8080/",
          "height": 306
        },
        "outputId": "976571a7-d046-4411-f88a-8a14dc82313f"
      },
      "execution_count": 4,
      "outputs": [
        {
          "output_type": "execute_result",
          "data": {
            "text/plain": [
              "<matplotlib.collections.PathCollection at 0x7f97af8b5c90>"
            ]
          },
          "metadata": {},
          "execution_count": 4
        },
        {
          "output_type": "display_data",
          "data": {
            "text/plain": [
              "<Figure size 432x288 with 1 Axes>"
            ],
            "image/png": "[encoded data removed]"
          },
          "metadata": {
            "needs_background": "light"
          }
        }
      ]
    },
    {
      "cell_type": "markdown",
      "source": [
        "### 2\\. Split dataset into training and test set & reset the indices of each output dataframe\n",
        "\n",
        "Notes:\n",
        "* Reset the index columns for each of the four dataframes output by the train_test_split below (x_train, x_test, y_train, y_test) so that it contains consecutive numbers starting at 0.\n",
        "\n",
        "* Use a small test set while you are still experimenting since the classification step is time consuming.  You can use a larger one, e.g., 25% once you are ready to plot the confusion matrix at the end of the assignment."
      ],
      "metadata": {
        "id": "QXeb6OllptGO"
      }
    },
    {
      "cell_type": "code",
      "source": [
        "x_train, x_test, y_train, y_test = train_test_split(df[[\"a\",\"b\"]], df[\"target\"], test_size = 0.25 , random_state = 100)\n",
        "x_train.reset_index(inplace = True, drop=True)\n",
        "y_train.reset_index(inplace = True, drop=True)\n",
        "x_test.reset_index(inplace = True,drop=True)\n",
        "y_test.reset_index(inplace = True, drop=True)\n",
        "# print(\"y_test after: \")\n",
        "# print( y_test.head(5))"
      ],
      "metadata": {
        "id": "j3ew5041pxq3"
      },
      "execution_count": 5,
      "outputs": []
    },
    {
      "cell_type": "markdown",
      "source": [
        "### 3\\.  Add a \"target\" column to x_train and store the y_train values there"
      ],
      "metadata": {
        "id": "C4nfrf5xoWYw"
      }
    },
    {
      "cell_type": "code",
      "source": [
        "# type(x_train)\n",
        "# y_train\n",
        "# pd.concat([x_train, y_train], columns=['a', 'b', 'target'], ignore_index=True)\n",
        "\n",
        "# series vs dataframe\n",
        "x_train.insert(2,\"target\", y_train)\n",
        "# x_train\n"
      ],
      "metadata": {
        "id": "96wPUspHojb5"
      },
      "execution_count": 6,
      "outputs": []
    },
    {
      "cell_type": "markdown",
      "source": [
        "# Section 3: KNN Algorithm Implementation"
      ],
      "metadata": {
        "id": "vD9MjXzcUoqu"
      }
    },
    {
      "cell_type": "markdown",
      "source": [
        "### 1\\. Implement a function euclidean_dist(p1,p2) that returns the euclidean distance between two numpy arrays, p1 and p2. "
      ],
      "metadata": {
        "id": "m37yPkujpyNj"
      }
    },
    {
      "cell_type": "code",
      "source": [
        "# ref: https://www.geeksforgeeks.org/calculate-the-euclidean-distance-using-numpy/\n",
        "\n",
        "import math\n",
        "def euclidean_dist(p1, p2):\n",
        "  # calculating Euclidean distance\n",
        "  # using linalg.norm()\n",
        "  # return np.linalg.norm(p1 - p2)\n",
        "  return math.sqrt((p1[0]-p2[0])**2 +(p1[1]-p2[1])**2)\n",
        "  # print(dist)\n",
        "\n",
        "# type(p1)\n",
        "# euclidean_dist(p1,p2)\n",
        "\n",
        "# p1 = np.array((1, 2, 3))\n",
        "# p2 = np.array((1, 1, 1))\n",
        "# euclidean_dist(p1,p2)\n",
        "\n"
      ],
      "metadata": {
        "id": "QGUwHQs6p7pc"
      },
      "execution_count": 7,
      "outputs": []
    },
    {
      "cell_type": "markdown",
      "source": [
        "### 2\\. Implement a function get_closest_neighbors(training_data, test_object, k) which returns the k nearest neighbors to the test object (nearest neighbors from  the training data \n",
        "\n",
        "* The function accepts as arguments a numpy matrix (training_data), a test object (a numpy array), and the parameter k.\n",
        "\n",
        "* The function returns k vectors (the k nearest neighbor to the test object)\n",
        "\n",
        "* The distance computation is performed using the euclidean_dist() function you wrote in the exercise above.\n",
        "\n",
        "* The distance computation needs to use the \"a\" and \"b\" column values for both a training object and the test object when computing the distance between them (print out the contents of the different variables to make sure you are using the right data) \n"
      ],
      "metadata": {
        "id": "34yinC0jqdDB"
      }
    },
    {
      "cell_type": "code",
      "source": [
        "# https://machinelearningmastery.com/tutorial-to-implement-k-nearest-neighbors-in-python-from-scratch/\n",
        "def get_closest_neighbors(training_data, test_object, k):\n",
        "  distances = []\n",
        "  k_closest_neighbors = []\n",
        "  for train_row in training_data:\n",
        "\t  dist = euclidean_dist(test_object, train_row)\n",
        "\t  distances.append((train_row, dist))\n",
        "  distances.sort(key=lambda tup: tup[1])\n",
        "  \n",
        "  for i in range(k):\n",
        "\t  k_closest_neighbors.append(distances[i][0])\n",
        "  return k_closest_neighbors"
      ],
      "metadata": {
        "id": "E6Ro8C4_qceE"
      },
      "execution_count": 8,
      "outputs": []
    },
    {
      "cell_type": "markdown",
      "source": [
        "### 3\\. Implement a classification function\n",
        "\n",
        "Given a set of neighbors, compute what class do the majority of them belong to, using a voting strategy (e.g., each neighbor votes for the class that it belongs to)\n",
        "\n",
        "Notes:\n",
        "\n",
        "* You may find the following functions helpful: np.bincount, np.argmax\n"
      ],
      "metadata": {
        "id": "zhh6d0KHVUh1"
      }
    },
    {
      "cell_type": "code",
      "source": [
        "def knn_classify(neighbors):\n",
        "  output_values = [row[-1] for row in neighbors]\n",
        "  majority_vote = max(set(output_values), key=output_values.count)\n",
        "  return majority_vote\n",
        "# knn_classify(5)\n",
        "\n",
        "# alternative sol:\n",
        "# def knn_classify(neighbors):\n",
        "#   classes = []\n",
        "#   rows, columns = np.shape(neighbors)\n",
        "#   for row in range(0, rows):\n",
        "#     classes.append(neighbors[row][columns-1])\n",
        "#   classes = np.array(classes)\n",
        "#   majority_vote = np.bincount(classes).argmax()\n",
        "#   return majority_vote"
      ],
      "metadata": {
        "id": "0IHaXTa9g3WK"
      },
      "execution_count": 9,
      "outputs": []
    },
    {
      "cell_type": "markdown",
      "source": [
        "**Use your KNN classifer to classify the test samples in your dataset**\n",
        "(you do not need to add code here)"
      ],
      "metadata": {
        "id": "3HlG1ImTg5zx"
      }
    },
    {
      "cell_type": "code",
      "source": [
        "# x_train, x_test, y_train, y_test = train_test_split(df[[\"a\",\"b\"]], df[\"target\"], test_size = 0.25 , random_state = 100)\n",
        "# x_train.reset_index(inplace = True, drop=True)\n",
        "# y_train.reset_index(inplace = True, drop=True)\n",
        "# x_test.reset_index(inplace = True,drop=True)\n",
        "# y_test.reset_index(inplace = True, drop=True)\n",
        "\n",
        "y_test_pred = []\n",
        "k = 10\n",
        "\n",
        "# print(\"length of x_train\", len(x_train))\n",
        "# print(\"length of x_test\", len(x_test))\n",
        "for i in tqdm(range(len(x_test))):\n",
        "# for i in tqdm(range(5)):\n",
        "  # find k closest neighbors\n",
        "  # k_neighbors = get_closest_neighbors(x_train.to_numpy(), x_test.iloc[i,:2], k)\n",
        "  k_neighbors = get_closest_neighbors(x_train.to_numpy(), x_test.iloc[i,:2], k)\n",
        "  # compute the class for the test object\n",
        "  test_object_class = knn_classify(k_neighbors)\n",
        "  # add the prediction to the list of predictions y_test_pred \n",
        "  y_test_pred.append(test_object_class)"
      ],
      "metadata": {
        "id": "eiGF7YDCqaWA",
        "colab": {
          "base_uri": "https://localhost:8080/"
        },
        "outputId": "c0da1b21-ac80-4f71-9f87-453c71b9bc32"
      },
      "execution_count": 10,
      "outputs": [
        {
          "output_type": "stream",
          "name": "stderr",
          "text": [
            "100%|██████████| 1250/1250 [00:33<00:00, 37.73it/s]\n"
          ]
        }
      ]
    },
    {
      "cell_type": "markdown",
      "source": [
        "### 4\\. Compute the confusion matrix for the above predictions"
      ],
      "metadata": {
        "id": "CWzWTWT3rhIS"
      }
    },
    {
      "cell_type": "code",
      "source": [
        "# https://scikit-learn.org/stable/modules/generated/sklearn.metrics.confusion_matrix.html\n",
        "# print(y_test_pred[:5])\n",
        "# print(y_test[:5])\n",
        "# confusion_matrix(y_true, y_pred)\n",
        "cm = (confusion_matrix(y_test, y_test_pred))\n",
        "'''\n",
        "# The confusion matrix takes two inputs \n",
        "# 1) the ground truth class for each of the test data points and \n",
        "# 2) the predicted class for each of the test data points.\n",
        "\n",
        "Each of these is an array of numbers and the length of both is the number of samples you have in your test set.  \n",
        "For example, if you have 15 samples/objects/rows in your test set, then you will have an array with the 15 class labels that correspond to each of the samples (this is your ground truth that is already in the dataset), and then you will have an array with 15 predicted class labels, each of which is the predicted class (by your model) corresponding to a test sample in your test set.\n",
        "'''\n",
        "  \n",
        "\n"
      ],
      "metadata": {
        "id": "ChDNDQV9rmR6",
        "colab": {
          "base_uri": "https://localhost:8080/",
          "height": 87
        },
        "outputId": "495642fe-db86-4453-ed22-de7770cb8a94"
      },
      "execution_count": 11,
      "outputs": [
        {
          "output_type": "execute_result",
          "data": {
            "text/plain": [
              "'\\n# The confusion matrix takes two inputs \\n# 1) the ground truth class for each of the test data points and \\n# 2) the predicted class for each of the test data points.\\n\\nEach of these is an array of numbers and the length of both is the number of samples you have in your test set.  \\nFor example, if you have 15 samples/objects/rows in your test set, then you will have an array with the 15 class labels that correspond to each of the samples (this is your ground truth that is already in the dataset), and then you will have an array with 15 predicted class labels, each of which is the predicted class (by your model) corresponding to a test sample in your test set.\\n'"
            ],
            "application/vnd.google.colaboratory.intrinsic+json": {
              "type": "string"
            }
          },
          "metadata": {},
          "execution_count": 11
        }
      ]
    },
    {
      "cell_type": "markdown",
      "source": [
        "### 5\\. Use the ConfusionMatrixDisplay.from_predictions function to plot a confusion matrix heatmap"
      ],
      "metadata": {
        "id": "BFk8hnsPjUnV"
      }
    },
    {
      "cell_type": "code",
      "source": [
        "## https://scikit-learn.org/stable/modules/generated/sklearn.metrics.ConfusionMatrixDisplay.html\n",
        "disp = ConfusionMatrixDisplay(cm)\n",
        "disp.plot()\n",
        "\n",
        "# numbers on the diagonal line: number of predicted label that matches with the true lable in each specific class"
      ],
      "metadata": {
        "id": "uD6W1rLXjgKq",
        "colab": {
          "base_uri": "https://localhost:8080/",
          "height": 296
        },
        "outputId": "9df0417e-f747-455e-eb26-ef1bde1f5293"
      },
      "execution_count": 12,
      "outputs": [
        {
          "output_type": "execute_result",
          "data": {
            "text/plain": [
              "<sklearn.metrics._plot.confusion_matrix.ConfusionMatrixDisplay at 0x7f97af3a5890>"
            ]
          },
          "metadata": {},
          "execution_count": 12
        },
        {
          "output_type": "display_data",
          "data": {
            "text/plain": [
              "<Figure size 432x288 with 2 Axes>"
            ],
            "image/png": "[encoded data removed]"
          },
          "metadata": {
            "needs_background": "light"
          }
        }
      ]
    }
  ]
}